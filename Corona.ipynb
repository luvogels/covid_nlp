{
 "cells": [
  {
   "cell_type": "code",
   "execution_count": 1,
   "id": "2532c6ba-75d5-49ad-b9aa-9ef93d88d6bc",
   "metadata": {},
   "outputs": [],
   "source": [
    "import json\n",
    "from tqdm import tqdm\n",
    "from collections import Counter"
   ]
  },
  {
   "cell_type": "code",
   "execution_count": 2,
   "id": "c1703f10-ff01-4835-b74c-8f49f12ea987",
   "metadata": {},
   "outputs": [
    {
     "name": "stderr",
     "output_type": "stream",
     "text": [
      "1673353it [11:17, 2470.36it/s]"
     ]
    },
    {
     "name": "stdout",
     "output_type": "stream",
     "text": [
      "CPU times: user 8min 1s, sys: 2min 27s, total: 10min 28s\n",
      "Wall time: 14min 49s\n"
     ]
    },
    {
     "name": "stderr",
     "output_type": "stream",
     "text": [
      "\n"
     ]
    }
   ],
   "source": [
    "%%time\n",
    "filename = \"/Users/luvogels/Downloads/aylien_covid_news_data/aylien_covid_news_data.jsonl\"\n",
    "count = 0 # Article count\n",
    "wc = [] # Word count\n",
    "cc = [] # Chracter count\n",
    "sc = [] # Sentence count\n",
    "dt = [] # Publishing data for the article (datetime)\n",
    "languages = Counter()\n",
    "source = Counter()\n",
    "keywords = Counter()\n",
    "\n",
    "with open(filename, 'r') as fin:\n",
    "    for index, line in tqdm(enumerate(fin.readlines())):\n",
    "        line = json.loads(line)\n",
    "        \n",
    "        count += 1\n",
    "        source[line[\"source\"][\"name\"]] += 1\n",
    "        languages[line[\"language\"]] += 1\n",
    "        wc.append(line[\"words_count\"])\n",
    "        cc.append(line[\"characters_count\"])\n",
    "        sc.append(line[\"sentences_count\"])\n",
    "        dt.append(line[\"published_at\"])\n",
    "        keywords.update(line[\"keywords\"])"
   ]
  },
  {
   "cell_type": "code",
   "execution_count": 22,
   "id": "b4cecbff-46f6-4d99-a64c-0c766b01e729",
   "metadata": {},
   "outputs": [
    {
     "data": {
      "text/plain": [
       "[('coronavirus', 1246371),\n",
       " ('pandemic', 723939),\n",
       " ('COVID-19', 619669),\n",
       " ('virus', 458283),\n",
       " ('people', 345353),\n",
       " ('Coronavirus', 312288),\n",
       " ('lockdown', 292553),\n",
       " ('coronavirus pandemic', 267936),\n",
       " ('Covid-19', 248850),\n",
       " ('China', 225363),\n",
       " ('cases', 191179),\n",
       " ('Reuters', 177753),\n",
       " ('health', 158910),\n",
       " ('government', 155843),\n",
       " ('hospital', 155407),\n",
       " ('time', 152603),\n",
       " ('quarantine', 150703),\n",
       " ('India', 144951),\n",
       " ('United States', 136866),\n",
       " ('President', 127885)]"
      ]
     },
     "execution_count": 22,
     "metadata": {},
     "output_type": "execute_result"
    }
   ],
   "source": [
    "# Top 20 keywords\n",
    "keywords.most_common(20)"
   ]
  },
  {
   "cell_type": "code",
   "execution_count": 21,
   "id": "1e704dbc-afc7-4da5-ac86-8a0ea6d5036e",
   "metadata": {},
   "outputs": [
    {
     "data": {
      "text/plain": [
       "[('en', 1673353)]"
      ]
     },
     "execution_count": 21,
     "metadata": {},
     "output_type": "execute_result"
    }
   ],
   "source": [
    "# Most common languages\n",
    "languages.most_common()"
   ]
  },
  {
   "cell_type": "code",
   "execution_count": 19,
   "id": "4312c661-4ce0-4a69-9a79-dd2fd745930e",
   "metadata": {},
   "outputs": [
    {
     "data": {
      "text/plain": [
       "522.7982183077928"
      ]
     },
     "execution_count": 19,
     "metadata": {},
     "output_type": "execute_result"
    }
   ],
   "source": [
    "# Average word count per article\n",
    "sum(wc) / count"
   ]
  },
  {
   "cell_type": "code",
   "execution_count": 18,
   "id": "3e12141e-c69d-4e7d-a287-cb69b5a0502f",
   "metadata": {},
   "outputs": [
    {
     "data": {
      "text/plain": [
       "23.224773852259506"
      ]
     },
     "execution_count": 18,
     "metadata": {},
     "output_type": "execute_result"
    }
   ],
   "source": [
    "# Average sentence count per article\n",
    "sum(sc) / count"
   ]
  },
  {
   "cell_type": "code",
   "execution_count": 17,
   "id": "8ec30e78-6b28-4464-9ee3-5d9e04d4af84",
   "metadata": {},
   "outputs": [
    {
     "data": {
      "text/plain": [
       "3113.642931288258"
      ]
     },
     "execution_count": 17,
     "metadata": {},
     "output_type": "execute_result"
    }
   ],
   "source": [
    "# Average character count per article\n",
    "sum(cc) / count"
   ]
  },
  {
   "cell_type": "code",
   "execution_count": 8,
   "id": "0baf39f3-6d58-4951-b6f8-c899cfc4011c",
   "metadata": {},
   "outputs": [
    {
     "data": {
      "text/plain": [
       "[('Daily Mail UK', 97356),\n",
       " ('Reuters', 87655),\n",
       " ('Yahoo', 61107),\n",
       " ('UrduPoint', 42043),\n",
       " ('Business Standard', 40970),\n",
       " ('Times of India', 31252),\n",
       " ('Hindu', 30466),\n",
       " ('Forbes', 26856),\n",
       " ('The Sun - UK', 25967),\n",
       " ('Biz Journals', 25563),\n",
       " ('Seeking Alpha', 25272),\n",
       " ('News18', 24483),\n",
       " ('Philippine Daily Inquirer', 24178),\n",
       " ('CBS Local', 22689),\n",
       " ('News International', 20750),\n",
       " ('Indian Express', 20724),\n",
       " ('Fox News', 19911),\n",
       " ('Business Insider', 19865),\n",
       " ('News', 19672),\n",
       " ('NDTV', 19208),\n",
       " ('Investing', 19037),\n",
       " ('Metro', 18668),\n",
       " ('Hindustan Times', 18248),\n",
       " ('Straits Times', 18203),\n",
       " ('CNN', 17765),\n",
       " ('The Mirror', 17671),\n",
       " ('The Washington Post', 17336),\n",
       " ('Stuff', 16870),\n",
       " ('The Motley Fool', 16746),\n",
       " ('Google News Canada', 16478)]"
      ]
     },
     "execution_count": 8,
     "metadata": {},
     "output_type": "execute_result"
    }
   ],
   "source": [
    "source.most_common(30)"
   ]
  },
  {
   "cell_type": "code",
   "execution_count": 11,
   "id": "d008d618-fa60-44f3-9a22-1b436e327c62",
   "metadata": {},
   "outputs": [
    {
     "data": {
      "text/plain": [
       "614"
      ]
     },
     "execution_count": 11,
     "metadata": {},
     "output_type": "execute_result"
    }
   ],
   "source": [
    "len(source)"
   ]
  },
  {
   "cell_type": "code",
   "execution_count": 12,
   "id": "ec41769e-7048-4fb0-a658-e66e4276c543",
   "metadata": {},
   "outputs": [
    {
     "name": "stdout",
     "output_type": "stream",
     "text": [
      "2019-11-01 06:45:40+00:00 2020-07-31 23:59:25+00:00\n"
     ]
    }
   ],
   "source": [
    "dt.sort()\n",
    "print(dt[0], dt[-1])"
   ]
  },
  {
   "cell_type": "code",
   "execution_count": 13,
   "id": "a2e5061b-8878-4a3e-a50d-1fa461a0a1a3",
   "metadata": {},
   "outputs": [
    {
     "data": {
      "text/plain": [
       "dict_keys(['author', 'body', 'categories', 'characters_count', 'entities', 'hashtags', 'id', 'keywords', 'language', 'links', 'media', 'paragraphs_count', 'published_at', 'sentences_count', 'sentiment', 'social_shares_count', 'source', 'summary', 'title', 'words_count'])"
      ]
     },
     "execution_count": 13,
     "metadata": {},
     "output_type": "execute_result"
    }
   ],
   "source": [
    "# Fields availbale for each article\n",
    "line.keys()"
   ]
  },
  {
   "cell_type": "code",
   "execution_count": 23,
   "id": "a4efd67f-1e93-482a-8e95-cd6781e5cf3b",
   "metadata": {},
   "outputs": [
    {
     "data": {
      "text/plain": [
       "dict_keys(['description', 'domain', 'home_page_url', 'id', 'links_in_count', 'locations', 'logo_url', 'name', 'rankings', 'scopes', 'title'])"
      ]
     },
     "execution_count": 23,
     "metadata": {},
     "output_type": "execute_result"
    }
   ],
   "source": [
    "# Fields availbale under source\n",
    "line[\"source\"].keys()"
   ]
  },
  {
   "cell_type": "code",
   "execution_count": null,
   "id": "3d1f5f44-6591-4596-87bf-d4da3c8b16ef",
   "metadata": {},
   "outputs": [],
   "source": []
  }
 ],
 "metadata": {
  "kernelspec": {
   "display_name": "Python 3",
   "language": "python",
   "name": "python3"
  },
  "language_info": {
   "codemirror_mode": {
    "name": "ipython",
    "version": 3
   },
   "file_extension": ".py",
   "mimetype": "text/x-python",
   "name": "python",
   "nbconvert_exporter": "python",
   "pygments_lexer": "ipython3",
   "version": "3.9.7"
  }
 },
 "nbformat": 4,
 "nbformat_minor": 5
}
